{
 "cells": [
  {
   "cell_type": "code",
   "execution_count": 18,
   "metadata": {},
   "outputs": [
    {
     "name": "stdout",
     "output_type": "stream",
     "text": [
      "Programmin\n"
     ]
    },
    {
     "data": {
      "text/plain": [
       "0"
      ]
     },
     "execution_count": 18,
     "metadata": {},
     "output_type": "execute_result"
    }
   ],
   "source": [
    "number = int(input('Enter the number'))\n",
    "original_string = \"Python Programming\"\n",
    "print(original_string[7:len(original_string)-1])\n",
    "\n",
    "original_string.find('Java')\n",
    "\n",
    "original_string.split()\n",
    "original_string.index('P')"
   ]
  },
  {
   "cell_type": "code",
   "execution_count": 17,
   "metadata": {},
   "outputs": [
    {
     "data": {
      "text/plain": [
       "True"
      ]
     },
     "execution_count": 17,
     "metadata": {},
     "output_type": "execute_result"
    }
   ],
   "source": [
    "num1 = 10 \n",
    "num2 = 20 \n",
    "num1 < num2 "
   ]
  },
  {
   "cell_type": "code",
   "execution_count": 16,
   "metadata": {},
   "outputs": [
    {
     "name": "stdout",
     "output_type": "stream",
     "text": [
      "num1 is less than num2\n"
     ]
    }
   ],
   "source": [
    "if num1 < num2:\n",
    "    print('num1 is less than num2')\n",
    "else:\n",
    "    print('num1 is greater than num2')\n",
    "    "
   ]
  },
  {
   "cell_type": "code",
   "execution_count": 15,
   "metadata": {},
   "outputs": [
    {
     "name": "stdout",
     "output_type": "stream",
     "text": [
      "Num is less than 100\n"
     ]
    }
   ],
   "source": [
    "num = int(input('input here: '))\n",
    "\n",
    "\n",
    "if num <= 100:\n",
    "    print('Num is less than 100')\n",
    "else:\n",
    "    print('Num is greater than 100')"
   ]
  },
  {
   "cell_type": "code",
   "execution_count": 13,
   "metadata": {},
   "outputs": [
    {
     "name": "stdout",
     "output_type": "stream",
     "text": [
      "v1 and v2 are the same\n"
     ]
    }
   ],
   "source": [
    "v1 = 12.34; v2 = 12.340000000000000001\n",
    "if v1 == v2:\n",
    "    print('v1 and v2 are the same')\n",
    "else:\n",
    "    print('v1 and v2 are different')"
   ]
  },
  {
   "cell_type": "code",
   "execution_count": 14,
   "metadata": {},
   "outputs": [
    {
     "name": "stdout",
     "output_type": "stream",
     "text": [
      "v1 and v2 are different\n"
     ]
    }
   ],
   "source": [
    "v1 = 12.34; v2 = 12.34000000000001\n",
    "if v1 == v2:\n",
    "    print('v1 and v2 are the same')\n",
    "else:\n",
    "    print('v1 and v2 are different')"
   ]
  },
  {
   "cell_type": "code",
   "execution_count": 19,
   "metadata": {},
   "outputs": [
    {
     "name": "stdout",
     "output_type": "stream",
     "text": [
      "str1 is greater than str2\n"
     ]
    }
   ],
   "source": [
    "str1 = 'Java1'\n",
    "str2 = 'Java'\n",
    "if str1 > str2:\n",
    "    print('str1 is greater than str2')\n",
    "else:\n",
    "    print('str1 is less than str2')"
   ]
  },
  {
   "cell_type": "code",
   "execution_count": 23,
   "metadata": {},
   "outputs": [
    {
     "name": "stdout",
     "output_type": "stream",
     "text": [
      "F\n"
     ]
    }
   ],
   "source": [
    "score = 60 \n",
    "if score >= 90:\n",
    "    print('A')\n",
    "elif score >= 90:\n",
    "    print('B')\n",
    "elif score >= 80:\n",
    "    print('C')\n",
    "elif score >= 70:\n",
    "    print('D')\n",
    "else:\n",
    "    print('F')"
   ]
  },
  {
   "cell_type": "code",
   "execution_count": 22,
   "metadata": {},
   "outputs": [
    {
     "name": "stdout",
     "output_type": "stream",
     "text": [
      "D\n"
     ]
    }
   ],
   "source": [
    "score = 60 \n",
    "if score >= 90:\n",
    "     print('A')\n",
    "elif score >= 80 and score < 90:\n",
    "     print('B')\n",
    "elif score >= 70 and score < 80:\n",
    "     print('C')\n",
    "elif score >= 60 and score < 70:\n",
    "     print('D')\n",
    "else:\n",
    "     print('F')"
   ]
  },
  {
   "cell_type": "code",
   "execution_count": 20,
   "metadata": {},
   "outputs": [
    {
     "name": "stdout",
     "output_type": "stream",
     "text": [
      "num is greater than or equal to 0 and less than 100\n"
     ]
    }
   ],
   "source": [
    "number = int(input('input here '))\n",
    "if num <0:\n",
    "    print('num is negative')\n",
    "elif num < 100:\n",
    "    print('num is greater than or equal to 0 and less than 100')\n",
    "else:\n",
    "    print('num is greater than or equal to 100')"
   ]
  },
  {
   "cell_type": "code",
   "execution_count": 21,
   "metadata": {},
   "outputs": [
    {
     "name": "stdout",
     "output_type": "stream",
     "text": [
      "num is greater than or equal to 0 and less than 100\n"
     ]
    }
   ],
   "source": [
    "if num < 0:\n",
    "    print('num is negative')\n",
    "else:   # num >= 0\n",
    "    if num < 100:\n",
    "        print('num is greater than or equal to 0 and less than 100')\n",
    "    else:\n",
    "        print('num is greater than or equal to 100')"
   ]
  },
  {
   "cell_type": "code",
   "execution_count": 25,
   "metadata": {},
   "outputs": [
    {
     "name": "stdout",
     "output_type": "stream",
     "text": [
      "Two values are positive\n"
     ]
    }
   ],
   "source": [
    "num1 = 100\n",
    "num2 = 200\n",
    "if num1 > 0:\n",
    "    if num2 > 0:\n",
    "        print('Two values are positive')\n",
    "    else:\n",
    "        print('num1 is positive, num2 is negativr')\n",
    "else:\n",
    "    if num2 > 0:\n",
    "        print('num1 is negative')"
   ]
  },
  {
   "cell_type": "code",
   "execution_count": 26,
   "metadata": {},
   "outputs": [
    {
     "name": "stdout",
     "output_type": "stream",
     "text": [
      "Two values are postive\n"
     ]
    }
   ],
   "source": [
    "if num1 > 0 and num2 > 0:   # if false, num1 <= 0 or num2 <= 0 or both\n",
    "    print('Two values are postive')\n",
    "elif  num1 > 0 and num2 <= 0:   # if false, num1 <= 0 or num2 0 or both\n",
    "    print('num1 is postive, but num2 is not postive')\n",
    "elif not(num1 > 0) and num2 > 0: # if false, num1 <= 0 or num2 <= 0 or both\n",
    "    print('num2 is postive and num1 is not postive')\n",
    "    "
   ]
  },
  {
   "cell_type": "code",
   "execution_count": null,
   "metadata": {},
   "outputs": [],
   "source": [
    "if num1 > 0 and num2 > 0:   # if false, num1 <= 0 or num2 <= 0 or both\n",
    "    print('Two values are postive')\n",
    "elif  num1 > 0 and num2 <= 0:   # if false, num1 <= 0 or num2 0 or both\n",
    "    print('num1 is postive, but num2 is not postive')\n",
    "elif not(num1 > 0) and num2 > 0: # if false, num1 <= 0 or num2 <= 0 or both\n",
    "    print('num2 is postive and num1 is not postive')"
   ]
  },
  {
   "cell_type": "code",
   "execution_count": 27,
   "metadata": {},
   "outputs": [
    {
     "name": "stdout",
     "output_type": "stream",
     "text": [
      "number is between 0 and 100\n"
     ]
    }
   ],
   "source": [
    "num = int(input('Enter a number: '))\n",
    "if num > 0 or num < 100:\n",
    "    print('number is between 0 and 100')"
   ]
  },
  {
   "cell_type": "code",
   "execution_count": null,
   "metadata": {},
   "outputs": [],
   "source": []
  }
 ],
 "metadata": {
  "language_info": {
   "name": "python"
  }
 },
 "nbformat": 4,
 "nbformat_minor": 2
}
